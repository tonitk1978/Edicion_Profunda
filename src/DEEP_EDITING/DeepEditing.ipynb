{
 "cells": [
  {
   "cell_type": "markdown",
   "metadata": {},
   "source": [
    "# Deep Editing"
   ]
  },
  {
   "cell_type": "markdown",
   "metadata": {},
   "source": [
    "## Importando Librerias"
   ]
  },
  {
   "cell_type": "code",
   "execution_count": 1,
   "metadata": {},
   "outputs": [],
   "source": [
    "\n",
    "import numpy as np\n",
    "import os as OperativeSystem\n",
    "import matplotlib.pyplot as plt\n",
    "import datetime\n",
    "from tqdm import tqdm\n",
    "from sklearn.model_selection import train_test_split\n",
    "from numpy import genfromtxt\n",
    "import shutil\n",
    "from heapq import nsmallest\n",
    "from sklearn.neighbors import NearestNeighbors\n",
    "from collections import Counter\n",
    "import sklearn\n",
    "from imblearn.over_sampling import SMOTE\n",
    "from imblearn.over_sampling import RandomOverSampler\n",
    "from imblearn.under_sampling import RandomUnderSampler\n",
    "from imblearn.under_sampling import TomekLinks\n",
    "from imblearn.combine import SMOTEENN\n",
    "from imblearn.combine import SMOTETomek\n",
    "from imblearn.under_sampling import EditedNearestNeighbours\n",
    "from imblearn.under_sampling import CondensedNearestNeighbour\n",
    "from imblearn.under_sampling import OneSidedSelection\n",
    "from imblearn.over_sampling import ADASYN\n",
    "from imblearn.over_sampling import BorderlineSMOTE\n",
    "from keras.models import load_model \n",
    "import h5py\n",
    "import tensorflow as tf\n",
    "from tensorflow import keras\n",
    "from sklearn.utils import shuffle"
   ]
  },
  {
   "cell_type": "markdown",
   "metadata": {},
   "source": [
    "## Definiendo Parametros"
   ]
  },
  {
   "cell_type": "code",
   "execution_count": 2,
   "metadata": {},
   "outputs": [],
   "source": [
    "directorio=\"../../\"\n",
    "#directorioPrueba=directorio+\"Datasets/txt/test/\"\n",
    "directorioEntrenamientoOut=directorio+\"Datasets/txt/sampled_train2/\"\n",
    "directorioEntrenamientoIn=directorio+\"Datasets/txt/sampled_train/\"\n",
    "directorioModelosIn=directorio+\"modelos/\"\n",
    "directorioPesosIn=directorio+\"pesos/\"\n",
    "directorioModelosOut=directorio+\"modelos2/\"\n",
    "directorioPesosOut=directorio+\"pesos2/\"\n",
    "bases=[\"Salinas\"]\n",
    "epocas=[500]\n",
    "lotes=[500]\n",
    "clases=[17]\n",
    "bandas=[224]\n",
    "OS=[\"\",\"_SMOTE\",\"_ROS\"]\n",
    "E = [\"_ENN\", \"_TL\", \"_OSS\"]\n",
    "metodosDeEdicionProfunda = {\n",
    "    \"_TL\": TomekLinks(sampling_strategy='all', n_jobs=7),\n",
    "    \"_ENN\": EditedNearestNeighbours(sampling_strategy='all', n_jobs=7),\n",
    "    \"_OSS\": OneSidedSelection(sampling_strategy='all', n_jobs=7)\n",
    "}\n",
    "\n",
    "n_capas=[\"\",\"C1\",\"C2\",\"C3\",\"C4\"]\n"
   ]
  },
  {
   "cell_type": "markdown",
   "metadata": {},
   "source": [
    "##"
   ]
  },
  {
   "cell_type": "code",
   "execution_count": 3,
   "metadata": {},
   "outputs": [
    {
     "name": "stdout",
     "output_type": "stream",
     "text": [
      "\n",
      "\n",
      "\n",
      "\n",
      ">>>>> Base:  Salinas\n",
      ">>>>>>>>>> Capa:  \n",
      "\n",
      "\n",
      "\n",
      "\n",
      "\n",
      "\n",
      "\n",
      ">>>Metodo de edicion:  _ENN  con el metodo de re muestreo:     para la capa:    con la base:   Salinas\n",
      "\n",
      "\n",
      ">>>  Cargando modelo:  ../../modelos/modeloSalinas.h5\n",
      ">>>  Cargando pesos:  ../../pesos/pesosSalinas.weights.h5\n",
      "778/778 [==============================] - 3s 2ms/step\n",
      ">>>>>>>>>>>>>>>>>>>>>>>>>>>>>>>>>> >>>>>>>>>  >>>>>>  EditedNearestNeighbours(n_jobs=7, sampling_strategy='all')\n",
      "(60626, 17)\n",
      "Counter({0.0: 34669, 8.0: 4494, 9.0: 3689, 15.0: 2285, 6.0: 2159, 2.0: 2142, 7.0: 2111, 10.0: 1791, 5.0: 1304, 16.0: 1070, 12.0: 1011, 1.0: 980, 3.0: 853, 4.0: 739, 11.0: 489, 14.0: 455, 13.0: 385})\n",
      ">>>indices: [    0     1     2 ... 77766 77769 77770]\n",
      ">>> forma indices: (60626,)\n"
     ]
    },
    {
     "name": "stderr",
     "output_type": "stream",
     "text": [
      "100%|██████████| 77772/77772 [00:28<00:00, 2687.22it/s]\n"
     ]
    },
    {
     "name": "stdout",
     "output_type": "stream",
     "text": [
      "60626 60625\n",
      ">>> Tiempo de edicion:  0:00:50.721367\n",
      "\n",
      "\n",
      "\n",
      ">>>Metodo de edicion:  _TL  con el metodo de re muestreo:     para la capa:    con la base:   Salinas\n",
      "\n",
      "\n",
      ">>>  Cargando modelo:  ../../modelos/modeloSalinas.h5\n",
      ">>>  Cargando pesos:  ../../pesos/pesosSalinas.weights.h5\n",
      "778/778 [==============================] - 2s 2ms/step\n",
      ">>>>>>>>>>>>>>>>>>>>>>>>>>>>>>>>>> >>>>>>>>>  >>>>>>  TomekLinks(n_jobs=7, sampling_strategy='all')\n",
      "(74254, 17)\n",
      "Counter({0.0: 38859, 8.0: 7089, 15.0: 4439, 9.0: 4202, 6.0: 2617, 2.0: 2511, 7.0: 2423, 10.0: 2257, 5.0: 1802, 12.0: 1319, 1.0: 1313, 3.0: 1241, 16.0: 1237, 4.0: 928, 14.0: 725, 11.0: 687, 13.0: 605})\n",
      ">>>indices: [    0     1     2 ... 77769 77770 77771]\n",
      ">>> forma indices: (74254,)\n"
     ]
    },
    {
     "name": "stderr",
     "output_type": "stream",
     "text": [
      "100%|██████████| 77772/77772 [00:35<00:00, 2170.70it/s]\n"
     ]
    },
    {
     "name": "stdout",
     "output_type": "stream",
     "text": [
      "74254 74253\n",
      ">>> Tiempo de edicion:  0:00:52.489448\n",
      "\n",
      "\n",
      "\n",
      ">>>Metodo de edicion:  _OSS  con el metodo de re muestreo:     para la capa:    con la base:   Salinas\n",
      "\n",
      "\n",
      ">>>  Cargando modelo:  ../../modelos/modeloSalinas.h5\n",
      ">>>  Cargando pesos:  ../../pesos/pesosSalinas.weights.h5\n",
      "778/778 [==============================] - 2s 2ms/step\n",
      ">>>>>>>>>>>>>>>>>>>>>>>>>>>>>>>>>> >>>>>>>>>  >>>>>>  OneSidedSelection(n_jobs=7, sampling_strategy='all')\n",
      "(9693, 17)\n",
      "Counter({0.0: 7483, 8.0: 381, 9.0: 369, 3.0: 351, 10.0: 246, 14.0: 161, 4.0: 151, 11.0: 139, 12.0: 104, 15.0: 98, 5.0: 82, 6.0: 37, 16.0: 36, 2.0: 26, 7.0: 19, 1.0: 9, 13.0: 1})\n",
      ">>>indices: [    0    22    42 ... 77767 77768 77771]\n",
      ">>> forma indices: (9693,)\n"
     ]
    },
    {
     "name": "stderr",
     "output_type": "stream",
     "text": [
      "100%|██████████| 77772/77772 [00:04<00:00, 16574.05it/s]\n"
     ]
    },
    {
     "name": "stdout",
     "output_type": "stream",
     "text": [
      "9693 9692\n",
      ">>> Tiempo de edicion:  0:00:14.448142\n",
      "\n",
      "\n",
      "\n",
      ">>>Metodo de edicion:  _ENN  con el metodo de re muestreo:   _SMOTE  para la capa:    con la base:   Salinas\n",
      "\n",
      "\n",
      ">>>  Cargando modelo:  ../../modelos/modeloSalinas_SMOTE.h5\n",
      ">>>  Cargando pesos:  ../../pesos/pesosSalinas_SMOTE.weights.h5\n",
      "6797/6797 [==============================] - 13s 2ms/step\n",
      ">>>>>>>>>>>>>>>>>>>>>>>>>>>>>>>>>> >>>>>>>>>  >>>>>>  EditedNearestNeighbours(n_jobs=7, sampling_strategy='all')\n",
      "(649852, 17)\n",
      "Counter({16.0: 39735, 4.0: 39577, 11.0: 39571, 12.0: 39538, 14.0: 39503, 13.0: 39412, 7.0: 39405, 2.0: 39331, 10.0: 39314, 1.0: 39283, 6.0: 39225, 5.0: 39167, 9.0: 39166, 3.0: 39107, 0.0: 34866, 15.0: 31998, 8.0: 31654})\n",
      ">>>indices: [     0      1      2 ... 679657 679658 679659]\n",
      ">>> forma indices: (649852,)\n"
     ]
    },
    {
     "name": "stderr",
     "output_type": "stream",
     "text": [
      "100%|██████████| 679660/679660 [05:01<00:00, 2254.58it/s]\n"
     ]
    },
    {
     "name": "stdout",
     "output_type": "stream",
     "text": [
      "649852 649851\n",
      ">>> Tiempo de edicion:  0:15:36.264392\n",
      "\n",
      "\n",
      "\n",
      ">>>Metodo de edicion:  _TL  con el metodo de re muestreo:   _SMOTE  para la capa:    con la base:   Salinas\n",
      "\n",
      "\n",
      ">>>  Cargando modelo:  ../../modelos/modeloSalinas_SMOTE.h5\n",
      ">>>  Cargando pesos:  ../../pesos/pesosSalinas_SMOTE.weights.h5\n",
      "6797/6797 [==============================] - 13s 2ms/step\n",
      ">>>>>>>>>>>>>>>>>>>>>>>>>>>>>>>>>> >>>>>>>>>  >>>>>>  TomekLinks(n_jobs=7, sampling_strategy='all')\n",
      "(671472, 17)\n",
      "Counter({16.0: 39946, 11.0: 39930, 12.0: 39927, 14.0: 39922, 13.0: 39910, 4.0: 39905, 7.0: 39883, 1.0: 39861, 5.0: 39855, 2.0: 39853, 10.0: 39851, 6.0: 39836, 3.0: 39808, 9.0: 39804, 0.0: 38369, 15.0: 37426, 8.0: 37386})\n",
      ">>>indices: [     0      1      2 ... 679657 679658 679659]\n",
      ">>> forma indices: (671472,)\n"
     ]
    },
    {
     "name": "stderr",
     "output_type": "stream",
     "text": [
      "100%|██████████| 679660/679660 [05:10<00:00, 2186.16it/s]\n"
     ]
    },
    {
     "name": "stdout",
     "output_type": "stream",
     "text": [
      "671472 671471\n",
      ">>> Tiempo de edicion:  0:15:29.079282\n",
      "\n",
      "\n",
      "\n",
      ">>>Metodo de edicion:  _OSS  con el metodo de re muestreo:   _SMOTE  para la capa:    con la base:   Salinas\n",
      "\n",
      "\n",
      ">>>  Cargando modelo:  ../../modelos/modeloSalinas_SMOTE.h5\n",
      ">>>  Cargando pesos:  ../../pesos/pesosSalinas_SMOTE.weights.h5\n",
      "6797/6797 [==============================] - 13s 2ms/step\n",
      ">>>>>>>>>>>>>>>>>>>>>>>>>>>>>>>>>> >>>>>>>>>  >>>>>>  OneSidedSelection(n_jobs=7, sampling_strategy='all')\n",
      "(565485, 17)\n",
      "Counter({16.0: 39954, 3.0: 39934, 14.0: 39911, 6.0: 39900, 1.0: 39814, 5.0: 39745, 2.0: 39737, 4.0: 39012, 8.0: 37574, 7.0: 37494, 15.0: 37221, 13.0: 35831, 12.0: 33832, 11.0: 25907, 9.0: 24517, 10.0: 15102})\n",
      ">>>indices: [     3      4      7 ... 679657 679658 679659]\n",
      ">>> forma indices: (565485,)\n"
     ]
    },
    {
     "name": "stderr",
     "output_type": "stream",
     "text": [
      "100%|██████████| 679660/679660 [04:20<00:00, 2605.37it/s]\n"
     ]
    },
    {
     "name": "stdout",
     "output_type": "stream",
     "text": [
      "565485 565484\n",
      ">>> Tiempo de edicion:  0:12:29.649554\n",
      "\n",
      "\n",
      "\n",
      ">>>Metodo de edicion:  _ENN  con el metodo de re muestreo:   _ROS  para la capa:    con la base:   Salinas\n",
      "\n",
      "\n",
      ">>>  Cargando modelo:  ../../modelos/modeloSalinas_ROS.h5\n",
      ">>>  Cargando pesos:  ../../pesos/pesosSalinas_ROS.weights.h5\n",
      "6797/6797 [==============================] - 13s 2ms/step\n",
      ">>>>>>>>>>>>>>>>>>>>>>>>>>>>>>>>>> >>>>>>>>>  >>>>>>  EditedNearestNeighbours(n_jobs=7, sampling_strategy='all')\n",
      "(669454, 17)\n",
      "Counter({9.0: 39914, 2.0: 39873, 16.0: 39844, 15.0: 39835, 3.0: 39801, 7.0: 39758, 6.0: 39725, 5.0: 39675, 10.0: 39657, 1.0: 39614, 4.0: 39588, 12.0: 39414, 13.0: 39287, 8.0: 39236, 11.0: 38987, 14.0: 38971, 0.0: 36275})\n",
      ">>>indices: [     0      1      2 ... 679657 679658 679659]\n",
      ">>> forma indices: (669454,)\n"
     ]
    },
    {
     "name": "stderr",
     "output_type": "stream",
     "text": [
      "100%|██████████| 679660/679660 [05:11<00:00, 2181.54it/s]\n"
     ]
    },
    {
     "name": "stdout",
     "output_type": "stream",
     "text": [
      "669454 669453\n",
      ">>> Tiempo de edicion:  0:15:37.379326\n",
      "\n",
      "\n",
      "\n",
      ">>>Metodo de edicion:  _TL  con el metodo de re muestreo:   _ROS  para la capa:    con la base:   Salinas\n",
      "\n",
      "\n",
      ">>>  Cargando modelo:  ../../modelos/modeloSalinas_ROS.h5\n",
      ">>>  Cargando pesos:  ../../pesos/pesosSalinas_ROS.weights.h5\n",
      "6797/6797 [==============================] - 13s 2ms/step\n",
      ">>>>>>>>>>>>>>>>>>>>>>>>>>>>>>>>>> >>>>>>>>>  >>>>>>  TomekLinks(n_jobs=7, sampling_strategy='all')\n",
      "(679656, 17)\n",
      "Counter({7.0: 39980, 5.0: 39980, 10.0: 39980, 16.0: 39980, 6.0: 39980, 3.0: 39980, 4.0: 39980, 9.0: 39980, 13.0: 39980, 12.0: 39980, 14.0: 39980, 1.0: 39980, 2.0: 39980, 11.0: 39980, 8.0: 39979, 15.0: 39979, 0.0: 39978})\n",
      ">>>indices: [     0      1      2 ... 679657 679658 679659]\n",
      ">>> forma indices: (679656,)\n"
     ]
    },
    {
     "name": "stderr",
     "output_type": "stream",
     "text": [
      "100%|██████████| 679660/679660 [05:12<00:00, 2171.71it/s]\n"
     ]
    },
    {
     "name": "stdout",
     "output_type": "stream",
     "text": [
      "679656 679655\n",
      ">>> Tiempo de edicion:  0:15:29.331595\n",
      "\n",
      "\n",
      "\n",
      ">>>Metodo de edicion:  _OSS  con el metodo de re muestreo:   _ROS  para la capa:    con la base:   Salinas\n",
      "\n",
      "\n",
      ">>>  Cargando modelo:  ../../modelos/modeloSalinas_ROS.h5\n",
      ">>>  Cargando pesos:  ../../pesos/pesosSalinas_ROS.weights.h5\n",
      "6797/6797 [==============================] - 13s 2ms/step\n",
      ">>>>>>>>>>>>>>>>>>>>>>>>>>>>>>>>>> >>>>>>>>>  >>>>>>  OneSidedSelection(n_jobs=7, sampling_strategy='all')\n",
      "(599180, 17)\n",
      "Counter({14.0: 39980, 5.0: 39919, 7.0: 39883, 6.0: 39825, 3.0: 39810, 15.0: 39585, 4.0: 39336, 16.0: 39048, 11.0: 39045, 12.0: 38977, 10.0: 38924, 8.0: 38911, 13.0: 38501, 9.0: 32874, 1.0: 32049, 2.0: 22513})\n",
      ">>>indices: [     3      4      6 ... 679657 679658 679659]\n",
      ">>> forma indices: (599180,)\n"
     ]
    },
    {
     "name": "stderr",
     "output_type": "stream",
     "text": [
      "100%|██████████| 679660/679660 [04:36<00:00, 2454.21it/s]"
     ]
    },
    {
     "name": "stdout",
     "output_type": "stream",
     "text": [
      "599180 599179\n",
      ">>> Tiempo de edicion:  0:13:22.450182\n",
      ">>>>>>>>>> Capa:  C1\n",
      "\n",
      "\n",
      "\n",
      "\n",
      "\n",
      "\n",
      "\n",
      ">>>Metodo de edicion:  _ENN  con el metodo de re muestreo:     para la capa:  C1  con la base:   Salinas\n",
      "\n",
      "\n",
      ">>>  Cargando modelo:  ../../modelos/modeloC1Salinas.h5\n",
      ">>>  Cargando pesos:  ../../pesos/pesosC1Salinas.weights.h5\n",
      "WARNING:tensorflow:Error in loading the saved optimizer state. As a result, your model is starting with a freshly initialized optimizer.\n"
     ]
    },
    {
     "name": "stderr",
     "output_type": "stream",
     "text": [
      "\n"
     ]
    },
    {
     "name": "stdout",
     "output_type": "stream",
     "text": [
      "778/778 [==============================] - 1s 2ms/step\n",
      ">>>>>>>>>>>>>>>>>>>>>>>>>>>>>>>>>> >>>>>>>>>  >>>>>>  EditedNearestNeighbours(n_jobs=7, sampling_strategy='all')\n",
      "(63703, 50)\n",
      "Counter({0.0: 35250, 8.0: 4783, 9.0: 3930, 15.0: 2615, 6.0: 2379, 2.0: 2256, 7.0: 2232, 10.0: 1970, 5.0: 1525, 12.0: 1155, 16.0: 1105, 1.0: 1073, 3.0: 1067, 4.0: 770, 11.0: 578, 14.0: 538, 13.0: 477})\n",
      ">>>indices: [    0     1     2 ... 77768 77769 77770]\n",
      ">>> forma indices: (63703,)\n"
     ]
    },
    {
     "name": "stderr",
     "output_type": "stream",
     "text": [
      "100%|██████████| 77772/77772 [00:30<00:00, 2572.61it/s]"
     ]
    },
    {
     "name": "stdout",
     "output_type": "stream",
     "text": [
      "63703 63702\n",
      ">>> Tiempo de edicion:  0:00:50.916124\n",
      "\n",
      "\n",
      "\n",
      ">>>Metodo de edicion:  _TL  con el metodo de re muestreo:     para la capa:  C1  con la base:   Salinas\n",
      "\n",
      "\n",
      ">>>  Cargando modelo:  ../../modelos/modeloC1Salinas.h5\n",
      ">>>  Cargando pesos:  ../../pesos/pesosC1Salinas.weights.h5\n",
      "WARNING:tensorflow:Error in loading the saved optimizer state. As a result, your model is starting with a freshly initialized optimizer.\n"
     ]
    },
    {
     "name": "stderr",
     "output_type": "stream",
     "text": [
      "\n"
     ]
    },
    {
     "name": "stdout",
     "output_type": "stream",
     "text": [
      "778/778 [==============================] - 1s 2ms/step\n",
      ">>>>>>>>>>>>>>>>>>>>>>>>>>>>>>>>>> >>>>>>>>>  >>>>>>  TomekLinks(n_jobs=7, sampling_strategy='all')\n",
      "(75718, 50)\n",
      "Counter({0.0: 39355, 8.0: 7363, 15.0: 4688, 9.0: 4267, 6.0: 2666, 2.0: 2557, 7.0: 2458, 10.0: 2295, 5.0: 1829, 12.0: 1341, 1.0: 1339, 3.0: 1291, 16.0: 1232, 4.0: 955, 14.0: 746, 11.0: 721, 13.0: 615})\n",
      ">>>indices: [    0     1     2 ... 77769 77770 77771]\n",
      ">>> forma indices: (75718,)\n"
     ]
    },
    {
     "name": "stderr",
     "output_type": "stream",
     "text": [
      "100%|██████████| 77772/77772 [00:35<00:00, 2165.32it/s]"
     ]
    },
    {
     "name": "stdout",
     "output_type": "stream",
     "text": [
      "75718 75717\n",
      ">>> Tiempo de edicion:  0:00:54.980250\n",
      "\n",
      "\n",
      "\n",
      ">>>Metodo de edicion:  _OSS  con el metodo de re muestreo:     para la capa:  C1  con la base:   Salinas\n",
      "\n",
      "\n",
      ">>>  Cargando modelo:  ../../modelos/modeloC1Salinas.h5\n",
      ">>>  Cargando pesos:  ../../pesos/pesosC1Salinas.weights.h5\n",
      "WARNING:tensorflow:Error in loading the saved optimizer state. As a result, your model is starting with a freshly initialized optimizer.\n"
     ]
    },
    {
     "name": "stderr",
     "output_type": "stream",
     "text": [
      "\n"
     ]
    },
    {
     "name": "stdout",
     "output_type": "stream",
     "text": [
      "778/778 [==============================] - 1s 2ms/step\n",
      ">>>>>>>>>>>>>>>>>>>>>>>>>>>>>>>>>> >>>>>>>>>  >>>>>>  OneSidedSelection(n_jobs=7, sampling_strategy='all')\n",
      "(12872, 50)\n",
      "Counter({0.0: 10263, 16.0: 941, 10.0: 724, 14.0: 377, 8.0: 331, 15.0: 102, 6.0: 39, 2.0: 34, 9.0: 29, 7.0: 19, 11.0: 6, 5.0: 2, 12.0: 2, 1.0: 1, 4.0: 1, 13.0: 1})\n",
      ">>>indices: [    0     8    11 ... 77769 77770 77771]\n",
      ">>> forma indices: (12872,)\n"
     ]
    },
    {
     "name": "stderr",
     "output_type": "stream",
     "text": [
      "100%|██████████| 77772/77772 [00:06<00:00, 12681.09it/s]\n"
     ]
    },
    {
     "name": "stdout",
     "output_type": "stream",
     "text": [
      "12872 12871\n",
      ">>> Tiempo de edicion:  0:00:15.617239\n",
      "\n",
      "\n",
      "\n",
      ">>>Metodo de edicion:  _ENN  con el metodo de re muestreo:   _SMOTE  para la capa:  C1  con la base:   Salinas\n",
      "\n",
      "\n",
      ">>>  Cargando modelo:  ../../modelos/modeloC1Salinas_SMOTE.h5\n",
      ">>>  Cargando pesos:  ../../pesos/pesosC1Salinas_SMOTE.weights.h5\n",
      "WARNING:tensorflow:Error in loading the saved optimizer state. As a result, your model is starting with a freshly initialized optimizer.\n",
      "6797/6797 [==============================] - 10s 2ms/step\n",
      ">>>>>>>>>>>>>>>>>>>>>>>>>>>>>>>>>> >>>>>>>>>  >>>>>>  EditedNearestNeighbours(n_jobs=7, sampling_strategy='all')\n",
      "(671718, 50)\n",
      "Counter({16.0: 39947, 2.0: 39937, 3.0: 39932, 4.0: 39916, 9.0: 39900, 14.0: 39893, 13.0: 39885, 5.0: 39884, 7.0: 39882, 1.0: 39873, 6.0: 39870, 12.0: 39842, 11.0: 39819, 10.0: 39799, 15.0: 39479, 8.0: 38924, 0.0: 34936})\n",
      ">>>indices: [     1      2      3 ... 679657 679658 679659]\n",
      ">>> forma indices: (671718,)\n"
     ]
    },
    {
     "name": "stderr",
     "output_type": "stream",
     "text": [
      "100%|██████████| 679660/679660 [05:13<00:00, 2171.18it/s]"
     ]
    },
    {
     "name": "stdout",
     "output_type": "stream",
     "text": [
      "671718 671717\n",
      ">>> Tiempo de edicion:  0:19:27.770057\n",
      "\n",
      "\n",
      "\n",
      ">>>Metodo de edicion:  _TL  con el metodo de re muestreo:   _SMOTE  para la capa:  C1  con la base:   Salinas\n",
      "\n",
      "\n",
      ">>>  Cargando modelo:  ../../modelos/modeloC1Salinas_SMOTE.h5\n",
      ">>>  Cargando pesos:  ../../pesos/pesosC1Salinas_SMOTE.weights.h5\n",
      "WARNING:tensorflow:Error in loading the saved optimizer state. As a result, your model is starting with a freshly initialized optimizer.\n"
     ]
    },
    {
     "name": "stderr",
     "output_type": "stream",
     "text": [
      "\n"
     ]
    },
    {
     "name": "stdout",
     "output_type": "stream",
     "text": [
      "6797/6797 [==============================] - 10s 1ms/step\n",
      ">>>>>>>>>>>>>>>>>>>>>>>>>>>>>>>>>> >>>>>>>>>  >>>>>>  TomekLinks(n_jobs=7, sampling_strategy='all')\n",
      "(679604, 50)\n",
      "Counter({16.0: 39980, 4.0: 39980, 13.0: 39980, 12.0: 39980, 14.0: 39980, 1.0: 39980, 2.0: 39980, 11.0: 39980, 3.0: 39979, 5.0: 39978, 7.0: 39977, 10.0: 39977, 9.0: 39977, 6.0: 39976, 15.0: 39972, 8.0: 39971, 0.0: 39957})\n",
      ">>>indices: [     0      1      2 ... 679657 679658 679659]\n",
      ">>> forma indices: (679604,)\n"
     ]
    },
    {
     "name": "stderr",
     "output_type": "stream",
     "text": [
      "100%|██████████| 679660/679660 [05:17<00:00, 2137.64it/s]"
     ]
    },
    {
     "name": "stdout",
     "output_type": "stream",
     "text": [
      "679604 679603\n",
      ">>> Tiempo de edicion:  0:19:23.327394\n",
      "\n",
      "\n",
      "\n",
      ">>>Metodo de edicion:  _OSS  con el metodo de re muestreo:   _SMOTE  para la capa:  C1  con la base:   Salinas\n",
      "\n",
      "\n",
      ">>>  Cargando modelo:  ../../modelos/modeloC1Salinas_SMOTE.h5\n",
      ">>>  Cargando pesos:  ../../pesos/pesosC1Salinas_SMOTE.weights.h5\n",
      "WARNING:tensorflow:Error in loading the saved optimizer state. As a result, your model is starting with a freshly initialized optimizer.\n"
     ]
    },
    {
     "name": "stderr",
     "output_type": "stream",
     "text": [
      "\n"
     ]
    },
    {
     "name": "stdout",
     "output_type": "stream",
     "text": [
      "6797/6797 [==============================] - 10s 2ms/step\n",
      ">>>>>>>>>>>>>>>>>>>>>>>>>>>>>>>>>> >>>>>>>>>  >>>>>>  OneSidedSelection(n_jobs=7, sampling_strategy='all')\n",
      "(618526, 50)\n",
      "Counter({15.0: 39871, 5.0: 39847, 10.0: 39791, 14.0: 39690, 3.0: 39665, 6.0: 39368, 7.0: 39282, 12.0: 39217, 16.0: 38699, 9.0: 38683, 8.0: 38666, 13.0: 38326, 4.0: 37837, 2.0: 37785, 1.0: 35900, 11.0: 35898, 0.0: 1})\n",
      ">>>indices: [     3      4      6 ... 679657 679658 679659]\n",
      ">>> forma indices: (618526,)\n"
     ]
    },
    {
     "name": "stderr",
     "output_type": "stream",
     "text": [
      "100%|██████████| 679660/679660 [04:47<00:00, 2362.69it/s]"
     ]
    },
    {
     "name": "stdout",
     "output_type": "stream",
     "text": [
      "618526 618525\n",
      ">>> Tiempo de edicion:  0:17:16.058864\n",
      "\n",
      "\n",
      "\n",
      ">>>Metodo de edicion:  _ENN  con el metodo de re muestreo:   _ROS  para la capa:  C1  con la base:   Salinas\n",
      "\n",
      "\n",
      ">>>  Cargando modelo:  ../../modelos/modeloC1Salinas_ROS.h5\n",
      ">>>  Cargando pesos:  ../../pesos/pesosC1Salinas_ROS.weights.h5\n",
      "WARNING:tensorflow:Error in loading the saved optimizer state. As a result, your model is starting with a freshly initialized optimizer.\n"
     ]
    },
    {
     "name": "stderr",
     "output_type": "stream",
     "text": [
      "\n"
     ]
    },
    {
     "name": "stdout",
     "output_type": "stream",
     "text": [
      "6797/6797 [==============================] - 10s 2ms/step\n",
      ">>>>>>>>>>>>>>>>>>>>>>>>>>>>>>>>>> >>>>>>>>>  >>>>>>  EditedNearestNeighbours(n_jobs=7, sampling_strategy='all')\n",
      "(669131, 50)\n",
      "Counter({2.0: 39929, 3.0: 39899, 9.0: 39894, 16.0: 39821, 15.0: 39809, 7.0: 39783, 5.0: 39748, 6.0: 39743, 10.0: 39667, 4.0: 39646, 1.0: 39635, 12.0: 39396, 8.0: 39257, 14.0: 39103, 11.0: 39006, 13.0: 38986, 0.0: 35809})\n",
      ">>>indices: [     1      2      3 ... 679657 679658 679659]\n",
      ">>> forma indices: (669131,)\n"
     ]
    },
    {
     "name": "stderr",
     "output_type": "stream",
     "text": [
      "100%|██████████| 679660/679660 [05:10<00:00, 2185.89it/s]"
     ]
    },
    {
     "name": "stdout",
     "output_type": "stream",
     "text": [
      "669131 669130\n",
      ">>> Tiempo de edicion:  0:19:13.773858\n",
      "\n",
      "\n",
      "\n",
      ">>>Metodo de edicion:  _TL  con el metodo de re muestreo:   _ROS  para la capa:  C1  con la base:   Salinas\n",
      "\n",
      "\n",
      ">>>  Cargando modelo:  ../../modelos/modeloC1Salinas_ROS.h5\n",
      ">>>  Cargando pesos:  ../../pesos/pesosC1Salinas_ROS.weights.h5\n",
      "WARNING:tensorflow:Error in loading the saved optimizer state. As a result, your model is starting with a freshly initialized optimizer.\n"
     ]
    },
    {
     "name": "stderr",
     "output_type": "stream",
     "text": [
      "\n"
     ]
    },
    {
     "name": "stdout",
     "output_type": "stream",
     "text": [
      "6797/6797 [==============================] - 10s 1ms/step\n",
      ">>>>>>>>>>>>>>>>>>>>>>>>>>>>>>>>>> >>>>>>>>>  >>>>>>  TomekLinks(n_jobs=7, sampling_strategy='all')\n",
      "(679660, 50)\n",
      "Counter({0.0: 39980, 7.0: 39980, 8.0: 39980, 5.0: 39980, 10.0: 39980, 16.0: 39980, 6.0: 39980, 3.0: 39980, 4.0: 39980, 9.0: 39980, 13.0: 39980, 12.0: 39980, 15.0: 39980, 14.0: 39980, 1.0: 39980, 2.0: 39980, 11.0: 39980})\n",
      ">>>indices: [     0      1      2 ... 679657 679658 679659]\n",
      ">>> forma indices: (679660,)\n"
     ]
    },
    {
     "name": "stderr",
     "output_type": "stream",
     "text": [
      "100%|██████████| 679660/679660 [05:15<00:00, 2155.82it/s]"
     ]
    },
    {
     "name": "stdout",
     "output_type": "stream",
     "text": [
      "679660 679659\n",
      ">>> Tiempo de edicion:  0:19:06.869916\n",
      "\n",
      "\n",
      "\n",
      ">>>Metodo de edicion:  _OSS  con el metodo de re muestreo:   _ROS  para la capa:  C1  con la base:   Salinas\n",
      "\n",
      "\n",
      ">>>  Cargando modelo:  ../../modelos/modeloC1Salinas_ROS.h5\n",
      ">>>  Cargando pesos:  ../../pesos/pesosC1Salinas_ROS.weights.h5\n",
      "WARNING:tensorflow:Error in loading the saved optimizer state. As a result, your model is starting with a freshly initialized optimizer.\n"
     ]
    },
    {
     "name": "stderr",
     "output_type": "stream",
     "text": [
      "\n"
     ]
    },
    {
     "name": "stdout",
     "output_type": "stream",
     "text": [
      "6797/6797 [==============================] - 10s 1ms/step\n",
      ">>>>>>>>>>>>>>>>>>>>>>>>>>>>>>>>>> >>>>>>>>>  >>>>>>  OneSidedSelection(n_jobs=7, sampling_strategy='all')\n",
      "(623448, 50)\n",
      "Counter({4.0: 39980, 8.0: 39933, 13.0: 39908, 14.0: 39834, 15.0: 39817, 3.0: 39718, 9.0: 39704, 1.0: 39659, 10.0: 38785, 16.0: 38616, 11.0: 38538, 6.0: 38153, 2.0: 38109, 7.0: 38097, 12.0: 37300, 5.0: 37296, 0.0: 1})\n",
      ">>>indices: [     3      4      6 ... 679657 679658 679659]\n",
      ">>> forma indices: (623448,)\n"
     ]
    },
    {
     "name": "stderr",
     "output_type": "stream",
     "text": [
      "100%|██████████| 679660/679660 [04:50<00:00, 2337.59it/s]\n"
     ]
    },
    {
     "name": "stdout",
     "output_type": "stream",
     "text": [
      "623448 623447\n",
      ">>> Tiempo de edicion:  0:17:45.507885\n",
      ">>>>>>>>>> Capa:  C2\n",
      "\n",
      "\n",
      "\n",
      "\n",
      "\n",
      "\n",
      "\n",
      ">>>Metodo de edicion:  _ENN  con el metodo de re muestreo:     para la capa:  C2  con la base:   Salinas\n",
      "\n",
      "\n",
      ">>>  Cargando modelo:  ../../modelos/modeloC2Salinas.h5\n",
      ">>>  Cargando pesos:  ../../pesos/pesosC2Salinas.weights.h5\n",
      "WARNING:tensorflow:Error in loading the saved optimizer state. As a result, your model is starting with a freshly initialized optimizer.\n",
      "778/778 [==============================] - 2s 2ms/step\n",
      ">>>>>>>>>>>>>>>>>>>>>>>>>>>>>>>>>> >>>>>>>>>  >>>>>>  EditedNearestNeighbours(n_jobs=7, sampling_strategy='all')\n",
      "(63422, 40)\n",
      "Counter({0.0: 35267, 8.0: 4717, 9.0: 3944, 15.0: 2552, 6.0: 2360, 2.0: 2229, 7.0: 2193, 10.0: 1958, 5.0: 1470, 12.0: 1145, 16.0: 1106, 3.0: 1063, 1.0: 1062, 4.0: 773, 11.0: 564, 14.0: 546, 13.0: 473})\n",
      ">>>indices: [    1     2     3 ... 77768 77769 77770]\n",
      ">>> forma indices: (63422,)\n"
     ]
    },
    {
     "name": "stderr",
     "output_type": "stream",
     "text": [
      "100%|██████████| 77772/77772 [00:30<00:00, 2558.20it/s]\n"
     ]
    },
    {
     "name": "stdout",
     "output_type": "stream",
     "text": [
      "63422 63421\n",
      ">>> Tiempo de edicion:  0:00:50.424877\n",
      "\n",
      "\n",
      "\n",
      ">>>Metodo de edicion:  _TL  con el metodo de re muestreo:     para la capa:  C2  con la base:   Salinas\n",
      "\n",
      "\n",
      ">>>  Cargando modelo:  ../../modelos/modeloC2Salinas.h5\n",
      ">>>  Cargando pesos:  ../../pesos/pesosC2Salinas.weights.h5\n",
      "WARNING:tensorflow:Error in loading the saved optimizer state. As a result, your model is starting with a freshly initialized optimizer.\n",
      "778/778 [==============================] - 2s 2ms/step\n",
      ">>>>>>>>>>>>>>>>>>>>>>>>>>>>>>>>>> >>>>>>>>>  >>>>>>  TomekLinks(n_jobs=7, sampling_strategy='all')\n",
      "(75532, 40)\n",
      "Counter({0.0: 39328, 8.0: 7300, 15.0: 4617, 9.0: 4259, 6.0: 2668, 2.0: 2549, 7.0: 2456, 10.0: 2291, 5.0: 1829, 12.0: 1342, 1.0: 1327, 3.0: 1306, 16.0: 1231, 4.0: 953, 14.0: 748, 11.0: 712, 13.0: 616})\n",
      ">>>indices: [    0     1     2 ... 77769 77770 77771]\n",
      ">>> forma indices: (75532,)\n"
     ]
    },
    {
     "name": "stderr",
     "output_type": "stream",
     "text": [
      "100%|██████████| 77772/77772 [00:35<00:00, 2180.81it/s]"
     ]
    },
    {
     "name": "stdout",
     "output_type": "stream",
     "text": [
      "75532 75531\n",
      ">>> Tiempo de edicion:  0:00:54.112104\n",
      "\n",
      "\n",
      "\n",
      ">>>Metodo de edicion:  _OSS  con el metodo de re muestreo:     para la capa:  C2  con la base:   Salinas\n",
      "\n",
      "\n",
      ">>>  Cargando modelo:  ../../modelos/modeloC2Salinas.h5\n",
      ">>>  Cargando pesos:  ../../pesos/pesosC2Salinas.weights.h5\n",
      "WARNING:tensorflow:Error in loading the saved optimizer state. As a result, your model is starting with a freshly initialized optimizer.\n"
     ]
    },
    {
     "name": "stderr",
     "output_type": "stream",
     "text": [
      "\n"
     ]
    },
    {
     "name": "stdout",
     "output_type": "stream",
     "text": [
      "778/778 [==============================] - 1s 2ms/step\n",
      ">>>>>>>>>>>>>>>>>>>>>>>>>>>>>>>>>> >>>>>>>>>  >>>>>>  OneSidedSelection(n_jobs=7, sampling_strategy='all')\n",
      "(8736, 40)\n",
      "Counter({0.0: 7246, 14.0: 494, 10.0: 344, 16.0: 327, 8.0: 188, 15.0: 39, 3.0: 27, 7.0: 24, 9.0: 20, 6.0: 16, 12.0: 6, 1.0: 1, 2.0: 1, 4.0: 1, 5.0: 1, 11.0: 1})\n",
      ">>>indices: [    0     8    18 ... 77768 77770 77771]\n",
      ">>> forma indices: (8736,)\n"
     ]
    },
    {
     "name": "stderr",
     "output_type": "stream",
     "text": [
      "100%|██████████| 77772/77772 [00:04<00:00, 18533.15it/s]"
     ]
    },
    {
     "name": "stdout",
     "output_type": "stream",
     "text": [
      "8736 8735\n",
      ">>> Tiempo de edicion:  0:00:13.664350\n",
      "\n",
      "\n",
      "\n",
      ">>>Metodo de edicion:  _ENN  con el metodo de re muestreo:   _SMOTE  para la capa:  C2  con la base:   Salinas\n",
      "\n",
      "\n",
      ">>>  Cargando modelo:  ../../modelos/modeloC2Salinas_SMOTE.h5\n",
      ">>>  Cargando pesos:  ../../pesos/pesosC2Salinas_SMOTE.weights.h5\n",
      "WARNING:tensorflow:Error in loading the saved optimizer state. As a result, your model is starting with a freshly initialized optimizer.\n"
     ]
    },
    {
     "name": "stderr",
     "output_type": "stream",
     "text": [
      "\n"
     ]
    },
    {
     "name": "stdout",
     "output_type": "stream",
     "text": [
      "6797/6797 [==============================] - 11s 2ms/step\n",
      ">>>>>>>>>>>>>>>>>>>>>>>>>>>>>>>>>> >>>>>>>>>  >>>>>>  EditedNearestNeighbours(n_jobs=7, sampling_strategy='all')\n",
      "(671397, 40)\n",
      "Counter({16.0: 39944, 2.0: 39936, 3.0: 39933, 4.0: 39908, 9.0: 39899, 13.0: 39893, 14.0: 39892, 1.0: 39883, 5.0: 39880, 7.0: 39878, 6.0: 39856, 11.0: 39841, 12.0: 39838, 10.0: 39812, 15.0: 39204, 8.0: 38481, 0.0: 35319})\n",
      ">>>indices: [     0      1      2 ... 679657 679658 679659]\n",
      ">>> forma indices: (671397,)\n"
     ]
    },
    {
     "name": "stderr",
     "output_type": "stream",
     "text": [
      "100%|██████████| 679660/679660 [05:12<00:00, 2171.50it/s]"
     ]
    },
    {
     "name": "stdout",
     "output_type": "stream",
     "text": [
      "671397 671396\n",
      ">>> Tiempo de edicion:  0:18:08.567635\n",
      "\n",
      "\n",
      "\n",
      ">>>Metodo de edicion:  _TL  con el metodo de re muestreo:   _SMOTE  para la capa:  C2  con la base:   Salinas\n",
      "\n",
      "\n",
      ">>>  Cargando modelo:  ../../modelos/modeloC2Salinas_SMOTE.h5\n",
      ">>>  Cargando pesos:  ../../pesos/pesosC2Salinas_SMOTE.weights.h5\n",
      "WARNING:tensorflow:Error in loading the saved optimizer state. As a result, your model is starting with a freshly initialized optimizer.\n"
     ]
    },
    {
     "name": "stderr",
     "output_type": "stream",
     "text": [
      "\n"
     ]
    },
    {
     "name": "stdout",
     "output_type": "stream",
     "text": [
      "6797/6797 [==============================] - 11s 2ms/step\n",
      ">>>>>>>>>>>>>>>>>>>>>>>>>>>>>>>>>> >>>>>>>>>  >>>>>>  TomekLinks(n_jobs=7, sampling_strategy='all')\n",
      "(679566, 40)\n",
      "Counter({16.0: 39980, 13.0: 39980, 12.0: 39980, 14.0: 39980, 11.0: 39980, 7.0: 39979, 3.0: 39979, 4.0: 39979, 1.0: 39979, 2.0: 39978, 5.0: 39977, 9.0: 39976, 10.0: 39975, 6.0: 39975, 15.0: 39962, 8.0: 39961, 0.0: 39946})\n",
      ">>>indices: [     0      1      2 ... 679657 679658 679659]\n",
      ">>> forma indices: (679566,)\n"
     ]
    },
    {
     "name": "stderr",
     "output_type": "stream",
     "text": [
      "100%|██████████| 679660/679660 [05:17<00:00, 2138.75it/s]"
     ]
    },
    {
     "name": "stdout",
     "output_type": "stream",
     "text": [
      "679566 679565\n",
      ">>> Tiempo de edicion:  0:18:13.355779\n",
      "\n",
      "\n",
      "\n",
      ">>>Metodo de edicion:  _OSS  con el metodo de re muestreo:   _SMOTE  para la capa:  C2  con la base:   Salinas\n",
      "\n",
      "\n",
      ">>>  Cargando modelo:  ../../modelos/modeloC2Salinas_SMOTE.h5\n",
      ">>>  Cargando pesos:  ../../pesos/pesosC2Salinas_SMOTE.weights.h5\n",
      "WARNING:tensorflow:Error in loading the saved optimizer state. As a result, your model is starting with a freshly initialized optimizer.\n"
     ]
    },
    {
     "name": "stderr",
     "output_type": "stream",
     "text": [
      "\n"
     ]
    },
    {
     "name": "stdout",
     "output_type": "stream",
     "text": [
      "6797/6797 [==============================] - 11s 2ms/step\n",
      ">>>>>>>>>>>>>>>>>>>>>>>>>>>>>>>>>> >>>>>>>>>  >>>>>>  OneSidedSelection(n_jobs=7, sampling_strategy='all')\n",
      "(604172, 40)\n",
      "Counter({7.0: 39894, 13.0: 39844, 15.0: 39844, 2.0: 39812, 6.0: 39698, 4.0: 39416, 12.0: 39108, 8.0: 38404, 5.0: 38161, 3.0: 38034, 16.0: 37594, 14.0: 36288, 1.0: 35053, 10.0: 34609, 9.0: 34409, 11.0: 34003, 0.0: 1})\n",
      ">>>indices: [     3      6      7 ... 679657 679658 679659]\n",
      ">>> forma indices: (604172,)\n"
     ]
    },
    {
     "name": "stderr",
     "output_type": "stream",
     "text": [
      "100%|██████████| 679660/679660 [04:42<00:00, 2407.86it/s]\n"
     ]
    },
    {
     "name": "stdout",
     "output_type": "stream",
     "text": [
      "604172 604171\n",
      ">>> Tiempo de edicion:  0:15:50.862756\n",
      "\n",
      "\n",
      "\n",
      ">>>Metodo de edicion:  _ENN  con el metodo de re muestreo:   _ROS  para la capa:  C2  con la base:   Salinas\n",
      "\n",
      "\n",
      ">>>  Cargando modelo:  ../../modelos/modeloC2Salinas_ROS.h5\n",
      ">>>  Cargando pesos:  ../../pesos/pesosC2Salinas_ROS.weights.h5\n",
      "WARNING:tensorflow:Error in loading the saved optimizer state. As a result, your model is starting with a freshly initialized optimizer.\n",
      "6797/6797 [==============================] - 10s 1ms/step\n",
      ">>>>>>>>>>>>>>>>>>>>>>>>>>>>>>>>>> >>>>>>>>>  >>>>>>  EditedNearestNeighbours(n_jobs=7, sampling_strategy='all')\n",
      "(669887, 40)\n",
      "Counter({9.0: 39875, 2.0: 39874, 16.0: 39856, 3.0: 39828, 15.0: 39817, 6.0: 39766, 7.0: 39724, 1.0: 39697, 10.0: 39693, 5.0: 39640, 4.0: 39639, 12.0: 39454, 8.0: 39358, 13.0: 39307, 14.0: 39211, 11.0: 39010, 0.0: 36138})\n",
      ">>>indices: [     0      1      2 ... 679657 679658 679659]\n",
      ">>> forma indices: (669887,)\n"
     ]
    },
    {
     "name": "stderr",
     "output_type": "stream",
     "text": [
      "100%|██████████| 679660/679660 [05:19<00:00, 2127.32it/s]"
     ]
    },
    {
     "name": "stdout",
     "output_type": "stream",
     "text": [
      "669887 669886\n",
      ">>> Tiempo de edicion:  0:18:23.974431\n",
      "\n",
      "\n",
      "\n",
      ">>>Metodo de edicion:  _TL  con el metodo de re muestreo:   _ROS  para la capa:  C2  con la base:   Salinas\n",
      "\n",
      "\n",
      ">>>  Cargando modelo:  ../../modelos/modeloC2Salinas_ROS.h5\n",
      ">>>  Cargando pesos:  ../../pesos/pesosC2Salinas_ROS.weights.h5\n",
      "WARNING:tensorflow:Error in loading the saved optimizer state. As a result, your model is starting with a freshly initialized optimizer.\n"
     ]
    },
    {
     "name": "stderr",
     "output_type": "stream",
     "text": [
      "\n"
     ]
    },
    {
     "name": "stdout",
     "output_type": "stream",
     "text": [
      "6797/6797 [==============================] - 11s 2ms/step\n",
      ">>>>>>>>>>>>>>>>>>>>>>>>>>>>>>>>>> >>>>>>>>>  >>>>>>  TomekLinks(n_jobs=7, sampling_strategy='all')\n",
      "(679660, 40)\n",
      "Counter({0.0: 39980, 7.0: 39980, 8.0: 39980, 5.0: 39980, 10.0: 39980, 16.0: 39980, 6.0: 39980, 3.0: 39980, 4.0: 39980, 9.0: 39980, 13.0: 39980, 12.0: 39980, 15.0: 39980, 14.0: 39980, 1.0: 39980, 2.0: 39980, 11.0: 39980})\n",
      ">>>indices: [     0      1      2 ... 679657 679658 679659]\n",
      ">>> forma indices: (679660,)\n"
     ]
    },
    {
     "name": "stderr",
     "output_type": "stream",
     "text": [
      "100%|██████████| 679660/679660 [05:19<00:00, 2128.38it/s]"
     ]
    },
    {
     "name": "stdout",
     "output_type": "stream",
     "text": [
      "679660 679659\n",
      ">>> Tiempo de edicion:  0:18:09.103792\n",
      "\n",
      "\n",
      "\n",
      ">>>Metodo de edicion:  _OSS  con el metodo de re muestreo:   _ROS  para la capa:  C2  con la base:   Salinas\n",
      "\n",
      "\n",
      ">>>  Cargando modelo:  ../../modelos/modeloC2Salinas_ROS.h5\n",
      ">>>  Cargando pesos:  ../../pesos/pesosC2Salinas_ROS.weights.h5\n",
      "WARNING:tensorflow:Error in loading the saved optimizer state. As a result, your model is starting with a freshly initialized optimizer.\n"
     ]
    },
    {
     "name": "stderr",
     "output_type": "stream",
     "text": [
      "\n"
     ]
    },
    {
     "name": "stdout",
     "output_type": "stream",
     "text": [
      "6797/6797 [==============================] - 11s 2ms/step\n",
      ">>>>>>>>>>>>>>>>>>>>>>>>>>>>>>>>>> >>>>>>>>>  >>>>>>  OneSidedSelection(n_jobs=7, sampling_strategy='all')\n",
      "(617387, 40)\n",
      "Counter({10.0: 39901, 1.0: 39868, 13.0: 39857, 16.0: 39765, 6.0: 39687, 4.0: 39653, 5.0: 39320, 3.0: 39276, 15.0: 38808, 8.0: 38713, 14.0: 38538, 12.0: 38387, 7.0: 38183, 2.0: 37972, 9.0: 36374, 11.0: 33084, 0.0: 1})\n",
      ">>>indices: [     3      4      6 ... 679657 679658 679659]\n",
      ">>> forma indices: (617387,)\n"
     ]
    },
    {
     "name": "stderr",
     "output_type": "stream",
     "text": [
      "100%|██████████| 679660/679660 [04:47<00:00, 2361.89it/s]\n"
     ]
    },
    {
     "name": "stdout",
     "output_type": "stream",
     "text": [
      "617387 617386\n",
      ">>> Tiempo de edicion:  0:16:15.152642\n",
      ">>>>>>>>>> Capa:  C3\n",
      "\n",
      "\n",
      "\n",
      "\n",
      "\n",
      "\n",
      "\n",
      ">>>Metodo de edicion:  _ENN  con el metodo de re muestreo:     para la capa:  C3  con la base:   Salinas\n",
      "\n",
      "\n",
      ">>>  Cargando modelo:  ../../modelos/modeloC3Salinas.h5\n",
      ">>>  Cargando pesos:  ../../pesos/pesosC3Salinas.weights.h5\n",
      "WARNING:tensorflow:Error in loading the saved optimizer state. As a result, your model is starting with a freshly initialized optimizer.\n",
      "778/778 [==============================] - 1s 2ms/step\n",
      ">>>>>>>>>>>>>>>>>>>>>>>>>>>>>>>>>> >>>>>>>>>  >>>>>>  EditedNearestNeighbours(n_jobs=7, sampling_strategy='all')\n",
      "(63374, 30)\n",
      "Counter({0.0: 35334, 8.0: 4717, 9.0: 3928, 15.0: 2467, 6.0: 2315, 2.0: 2213, 7.0: 2207, 10.0: 1937, 5.0: 1460, 12.0: 1158, 16.0: 1115, 1.0: 1073, 3.0: 1063, 4.0: 768, 11.0: 580, 14.0: 565, 13.0: 474})\n",
      ">>>indices: [    0     1     2 ... 77768 77769 77770]\n",
      ">>> forma indices: (63374,)\n"
     ]
    },
    {
     "name": "stderr",
     "output_type": "stream",
     "text": [
      "100%|██████████| 77772/77772 [00:30<00:00, 2589.41it/s]\n"
     ]
    },
    {
     "name": "stdout",
     "output_type": "stream",
     "text": [
      "63374 63373\n",
      ">>> Tiempo de edicion:  0:00:48.811037\n",
      "\n",
      "\n",
      "\n",
      ">>>Metodo de edicion:  _TL  con el metodo de re muestreo:     para la capa:  C3  con la base:   Salinas\n",
      "\n",
      "\n",
      ">>>  Cargando modelo:  ../../modelos/modeloC3Salinas.h5\n",
      ">>>  Cargando pesos:  ../../pesos/pesosC3Salinas.weights.h5\n",
      "WARNING:tensorflow:Error in loading the saved optimizer state. As a result, your model is starting with a freshly initialized optimizer.\n",
      "778/778 [==============================] - 1s 2ms/step\n",
      ">>>>>>>>>>>>>>>>>>>>>>>>>>>>>>>>>> >>>>>>>>>  >>>>>>  TomekLinks(n_jobs=7, sampling_strategy='all')\n",
      "(75422, 30)\n",
      "Counter({0.0: 39275, 8.0: 7286, 15.0: 4614, 9.0: 4265, 6.0: 2650, 2.0: 2543, 7.0: 2448, 10.0: 2287, 5.0: 1828, 12.0: 1342, 1.0: 1333, 3.0: 1292, 16.0: 1236, 4.0: 951, 14.0: 744, 11.0: 713, 13.0: 615})\n",
      ">>>indices: [    0     1     2 ... 77769 77770 77771]\n",
      ">>> forma indices: (75422,)\n"
     ]
    },
    {
     "name": "stderr",
     "output_type": "stream",
     "text": [
      "100%|██████████| 77772/77772 [00:35<00:00, 2175.61it/s]"
     ]
    },
    {
     "name": "stdout",
     "output_type": "stream",
     "text": [
      "75422 75421\n",
      ">>> Tiempo de edicion:  0:00:53.077152\n",
      "\n",
      "\n",
      "\n",
      ">>>Metodo de edicion:  _OSS  con el metodo de re muestreo:     para la capa:  C3  con la base:   Salinas\n",
      "\n",
      "\n",
      ">>>  Cargando modelo:  ../../modelos/modeloC3Salinas.h5\n",
      ">>>  Cargando pesos:  ../../pesos/pesosC3Salinas.weights.h5\n",
      "WARNING:tensorflow:Error in loading the saved optimizer state. As a result, your model is starting with a freshly initialized optimizer.\n"
     ]
    },
    {
     "name": "stderr",
     "output_type": "stream",
     "text": [
      "\n"
     ]
    },
    {
     "name": "stdout",
     "output_type": "stream",
     "text": [
      "778/778 [==============================] - 1s 2ms/step\n",
      ">>>>>>>>>>>>>>>>>>>>>>>>>>>>>>>>>> >>>>>>>>>  >>>>>>  OneSidedSelection(n_jobs=7, sampling_strategy='all')\n",
      "(15809, 30)\n",
      "Counter({0.0: 12546, 10.0: 1571, 3.0: 454, 12.0: 417, 14.0: 344, 16.0: 196, 7.0: 87, 8.0: 79, 11.0: 32, 9.0: 28, 2.0: 22, 6.0: 16, 15.0: 12, 5.0: 2, 1.0: 1, 4.0: 1, 13.0: 1})\n",
      ">>>indices: [    0     8    10 ... 77768 77770 77771]\n",
      ">>> forma indices: (15809,)\n"
     ]
    },
    {
     "name": "stderr",
     "output_type": "stream",
     "text": [
      "100%|██████████| 77772/77772 [00:07<00:00, 10451.99it/s]\n"
     ]
    },
    {
     "name": "stdout",
     "output_type": "stream",
     "text": [
      "15809 15808\n",
      ">>> Tiempo de edicion:  0:00:17.158485\n",
      "\n",
      "\n",
      "\n",
      ">>>Metodo de edicion:  _ENN  con el metodo de re muestreo:   _SMOTE  para la capa:  C3  con la base:   Salinas\n",
      "\n",
      "\n",
      ">>>  Cargando modelo:  ../../modelos/modeloC3Salinas_SMOTE.h5\n",
      ">>>  Cargando pesos:  ../../pesos/pesosC3Salinas_SMOTE.weights.h5\n",
      "WARNING:tensorflow:Error in loading the saved optimizer state. As a result, your model is starting with a freshly initialized optimizer.\n",
      "6797/6797 [==============================] - 11s 2ms/step\n",
      ">>>>>>>>>>>>>>>>>>>>>>>>>>>>>>>>>> >>>>>>>>>  >>>>>>  EditedNearestNeighbours(n_jobs=7, sampling_strategy='all')\n",
      "(670097, 30)\n",
      "Counter({16.0: 39940, 3.0: 39922, 4.0: 39918, 2.0: 39911, 9.0: 39889, 13.0: 39887, 14.0: 39885, 5.0: 39869, 12.0: 39857, 6.0: 39850, 7.0: 39850, 11.0: 39843, 1.0: 39838, 10.0: 39804, 15.0: 38706, 8.0: 37880, 0.0: 35248})\n",
      ">>>indices: [     0      1      2 ... 679657 679658 679659]\n",
      ">>> forma indices: (670097,)\n"
     ]
    },
    {
     "name": "stderr",
     "output_type": "stream",
     "text": [
      "100%|██████████| 679660/679660 [05:10<00:00, 2189.43it/s]\n"
     ]
    },
    {
     "name": "stdout",
     "output_type": "stream",
     "text": [
      "670097 670096\n",
      ">>> Tiempo de edicion:  0:16:34.526743\n",
      "\n",
      "\n",
      "\n",
      ">>>Metodo de edicion:  _TL  con el metodo de re muestreo:   _SMOTE  para la capa:  C3  con la base:   Salinas\n",
      "\n",
      "\n",
      ">>>  Cargando modelo:  ../../modelos/modeloC3Salinas_SMOTE.h5\n",
      ">>>  Cargando pesos:  ../../pesos/pesosC3Salinas_SMOTE.weights.h5\n",
      "WARNING:tensorflow:Error in loading the saved optimizer state. As a result, your model is starting with a freshly initialized optimizer.\n",
      "6797/6797 [==============================] - 11s 2ms/step\n",
      ">>>>>>>>>>>>>>>>>>>>>>>>>>>>>>>>>> >>>>>>>>>  >>>>>>  TomekLinks(n_jobs=7, sampling_strategy='all')\n",
      "(679476, 30)\n",
      "Counter({16.0: 39980, 4.0: 39980, 13.0: 39980, 12.0: 39980, 11.0: 39980, 5.0: 39979, 3.0: 39979, 9.0: 39979, 14.0: 39979, 2.0: 39977, 6.0: 39975, 1.0: 39975, 7.0: 39974, 10.0: 39973, 0.0: 39935, 15.0: 39927, 8.0: 39924})\n",
      ">>>indices: [     0      1      2 ... 679657 679658 679659]\n",
      ">>> forma indices: (679476,)\n"
     ]
    },
    {
     "name": "stderr",
     "output_type": "stream",
     "text": [
      "100%|██████████| 679660/679660 [05:18<00:00, 2135.45it/s]"
     ]
    },
    {
     "name": "stdout",
     "output_type": "stream",
     "text": [
      "679476 679475\n",
      ">>> Tiempo de edicion:  0:16:50.655504\n",
      "\n",
      "\n",
      "\n",
      ">>>Metodo de edicion:  _OSS  con el metodo de re muestreo:   _SMOTE  para la capa:  C3  con la base:   Salinas\n",
      "\n",
      "\n",
      ">>>  Cargando modelo:  ../../modelos/modeloC3Salinas_SMOTE.h5\n",
      ">>>  Cargando pesos:  ../../pesos/pesosC3Salinas_SMOTE.weights.h5\n",
      "WARNING:tensorflow:Error in loading the saved optimizer state. As a result, your model is starting with a freshly initialized optimizer.\n"
     ]
    },
    {
     "name": "stderr",
     "output_type": "stream",
     "text": [
      "\n"
     ]
    },
    {
     "name": "stdout",
     "output_type": "stream",
     "text": [
      "6797/6797 [==============================] - 12s 2ms/step\n",
      ">>>>>>>>>>>>>>>>>>>>>>>>>>>>>>>>>> >>>>>>>>>  >>>>>>  OneSidedSelection(n_jobs=7, sampling_strategy='all')\n",
      "(604741, 30)\n",
      "Counter({3.0: 39922, 6.0: 39713, 8.0: 39705, 15.0: 39693, 12.0: 39441, 1.0: 39327, 2.0: 39009, 5.0: 38203, 7.0: 38147, 16.0: 38094, 11.0: 37559, 13.0: 37086, 4.0: 36967, 10.0: 34377, 9.0: 33754, 14.0: 33743, 0.0: 1})\n",
      ">>>indices: [     3      4      6 ... 679657 679658 679659]\n",
      ">>> forma indices: (604741,)\n"
     ]
    },
    {
     "name": "stderr",
     "output_type": "stream",
     "text": [
      "100%|██████████| 679660/679660 [04:40<00:00, 2419.85it/s]"
     ]
    },
    {
     "name": "stdout",
     "output_type": "stream",
     "text": [
      "604741 604740\n",
      ">>> Tiempo de edicion:  0:14:42.500220\n",
      "\n",
      "\n",
      "\n",
      ">>>Metodo de edicion:  _ENN  con el metodo de re muestreo:   _ROS  para la capa:  C3  con la base:   Salinas\n",
      "\n",
      "\n",
      ">>>  Cargando modelo:  ../../modelos/modeloC3Salinas_ROS.h5\n",
      ">>>  Cargando pesos:  ../../pesos/pesosC3Salinas_ROS.weights.h5\n",
      "WARNING:tensorflow:Error in loading the saved optimizer state. As a result, your model is starting with a freshly initialized optimizer.\n"
     ]
    },
    {
     "name": "stderr",
     "output_type": "stream",
     "text": [
      "\n"
     ]
    },
    {
     "name": "stdout",
     "output_type": "stream",
     "text": [
      "6797/6797 [==============================] - 12s 2ms/step\n",
      ">>>>>>>>>>>>>>>>>>>>>>>>>>>>>>>>>> >>>>>>>>>  >>>>>>  EditedNearestNeighbours(n_jobs=7, sampling_strategy='all')\n",
      "(670063, 30)\n",
      "Counter({2.0: 39930, 9.0: 39879, 15.0: 39836, 3.0: 39822, 16.0: 39787, 6.0: 39766, 7.0: 39750, 5.0: 39746, 10.0: 39711, 1.0: 39699, 4.0: 39692, 8.0: 39390, 12.0: 39363, 14.0: 39302, 13.0: 39224, 11.0: 39066, 0.0: 36100})\n",
      ">>>indices: [     0      1      2 ... 679657 679658 679659]\n",
      ">>> forma indices: (670063,)\n"
     ]
    },
    {
     "name": "stderr",
     "output_type": "stream",
     "text": [
      "100%|██████████| 679660/679660 [05:12<00:00, 2176.58it/s]\n"
     ]
    },
    {
     "name": "stdout",
     "output_type": "stream",
     "text": [
      "670063 670062\n",
      ">>> Tiempo de edicion:  0:16:54.008582\n",
      "\n",
      "\n",
      "\n",
      ">>>Metodo de edicion:  _TL  con el metodo de re muestreo:   _ROS  para la capa:  C3  con la base:   Salinas\n",
      "\n",
      "\n",
      ">>>  Cargando modelo:  ../../modelos/modeloC3Salinas_ROS.h5\n",
      ">>>  Cargando pesos:  ../../pesos/pesosC3Salinas_ROS.weights.h5\n",
      "WARNING:tensorflow:Error in loading the saved optimizer state. As a result, your model is starting with a freshly initialized optimizer.\n",
      "6797/6797 [==============================] - 12s 2ms/step\n",
      ">>>>>>>>>>>>>>>>>>>>>>>>>>>>>>>>>> >>>>>>>>>  >>>>>>  TomekLinks(n_jobs=7, sampling_strategy='all')\n",
      "(679658, 30)\n",
      "Counter({7.0: 39980, 5.0: 39980, 10.0: 39980, 16.0: 39980, 6.0: 39980, 3.0: 39980, 4.0: 39980, 9.0: 39980, 13.0: 39980, 12.0: 39980, 15.0: 39980, 14.0: 39980, 1.0: 39980, 2.0: 39980, 11.0: 39980, 0.0: 39979, 8.0: 39979})\n",
      ">>>indices: [     0      1      2 ... 679657 679658 679659]\n",
      ">>> forma indices: (679658,)\n"
     ]
    },
    {
     "name": "stderr",
     "output_type": "stream",
     "text": [
      "100%|██████████| 679660/679660 [05:18<00:00, 2131.03it/s]"
     ]
    },
    {
     "name": "stdout",
     "output_type": "stream",
     "text": [
      "679658 679657\n",
      ">>> Tiempo de edicion:  0:16:46.484593\n",
      "\n",
      "\n",
      "\n",
      ">>>Metodo de edicion:  _OSS  con el metodo de re muestreo:   _ROS  para la capa:  C3  con la base:   Salinas\n",
      "\n",
      "\n",
      ">>>  Cargando modelo:  ../../modelos/modeloC3Salinas_ROS.h5\n",
      ">>>  Cargando pesos:  ../../pesos/pesosC3Salinas_ROS.weights.h5\n",
      "WARNING:tensorflow:Error in loading the saved optimizer state. As a result, your model is starting with a freshly initialized optimizer.\n"
     ]
    },
    {
     "name": "stderr",
     "output_type": "stream",
     "text": [
      "\n"
     ]
    },
    {
     "name": "stdout",
     "output_type": "stream",
     "text": [
      "6797/6797 [==============================] - 12s 2ms/step\n",
      ">>>>>>>>>>>>>>>>>>>>>>>>>>>>>>>>>> >>>>>>>>>  >>>>>>  OneSidedSelection(n_jobs=7, sampling_strategy='all')\n",
      "(603729, 30)\n",
      "Counter({2.0: 39965, 3.0: 39951, 6.0: 39909, 4.0: 39782, 15.0: 39752, 5.0: 39649, 12.0: 39168, 16.0: 39094, 7.0: 39057, 14.0: 38494, 13.0: 38477, 9.0: 37833, 11.0: 37421, 8.0: 37117, 1.0: 36134, 10.0: 21925, 0.0: 1})\n",
      ">>>indices: [     3      4      6 ... 679657 679658 679659]\n",
      ">>> forma indices: (603729,)\n"
     ]
    },
    {
     "name": "stderr",
     "output_type": "stream",
     "text": [
      "100%|██████████| 679660/679660 [04:40<00:00, 2427.27it/s]\n"
     ]
    },
    {
     "name": "stdout",
     "output_type": "stream",
     "text": [
      "603729 603728\n",
      ">>> Tiempo de edicion:  0:15:12.764582\n",
      ">>>>>>>>>> Capa:  C4\n",
      "\n",
      "\n",
      "\n",
      "\n",
      "\n",
      "\n",
      "\n",
      ">>>Metodo de edicion:  _ENN  con el metodo de re muestreo:     para la capa:  C4  con la base:   Salinas\n",
      "\n",
      "\n",
      ">>>  Cargando modelo:  ../../modelos/modeloC4Salinas.h5\n",
      ">>>  Cargando pesos:  ../../pesos/pesosC4Salinas.weights.h5\n",
      "WARNING:tensorflow:Error in loading the saved optimizer state. As a result, your model is starting with a freshly initialized optimizer.\n",
      "778/778 [==============================] - 2s 2ms/step\n",
      ">>>>>>>>>>>>>>>>>>>>>>>>>>>>>>>>>> >>>>>>>>>  >>>>>>  EditedNearestNeighbours(n_jobs=7, sampling_strategy='all')\n",
      "(63210, 20)\n",
      "Counter({0.0: 35234, 8.0: 4778, 9.0: 3906, 15.0: 2520, 6.0: 2273, 2.0: 2229, 7.0: 2198, 10.0: 1924, 5.0: 1434, 12.0: 1146, 16.0: 1103, 1.0: 1071, 3.0: 1041, 4.0: 748, 11.0: 579, 14.0: 577, 13.0: 449})\n",
      ">>>indices: [    0     1     2 ... 77768 77769 77770]\n",
      ">>> forma indices: (63210,)\n"
     ]
    },
    {
     "name": "stderr",
     "output_type": "stream",
     "text": [
      "100%|██████████| 77772/77772 [00:29<00:00, 2599.78it/s]\n"
     ]
    },
    {
     "name": "stdout",
     "output_type": "stream",
     "text": [
      "63210 63209\n",
      ">>> Tiempo de edicion:  0:00:48.320387\n",
      "\n",
      "\n",
      "\n",
      ">>>Metodo de edicion:  _TL  con el metodo de re muestreo:     para la capa:  C4  con la base:   Salinas\n",
      "\n",
      "\n",
      ">>>  Cargando modelo:  ../../modelos/modeloC4Salinas.h5\n",
      ">>>  Cargando pesos:  ../../pesos/pesosC4Salinas.weights.h5\n",
      "WARNING:tensorflow:Error in loading the saved optimizer state. As a result, your model is starting with a freshly initialized optimizer.\n",
      "778/778 [==============================] - 2s 2ms/step\n",
      ">>>>>>>>>>>>>>>>>>>>>>>>>>>>>>>>>> >>>>>>>>>  >>>>>>  TomekLinks(n_jobs=7, sampling_strategy='all')\n",
      "(75316, 20)\n",
      "Counter({0.0: 39223, 8.0: 7293, 15.0: 4619, 9.0: 4251, 6.0: 2656, 2.0: 2542, 7.0: 2446, 10.0: 2278, 5.0: 1816, 12.0: 1335, 1.0: 1331, 3.0: 1290, 16.0: 1235, 4.0: 947, 14.0: 738, 11.0: 708, 13.0: 608})\n",
      ">>>indices: [    0     1     2 ... 77769 77770 77771]\n",
      ">>> forma indices: (75316,)\n"
     ]
    },
    {
     "name": "stderr",
     "output_type": "stream",
     "text": [
      "100%|██████████| 77772/77772 [00:35<00:00, 2179.86it/s]\n"
     ]
    },
    {
     "name": "stdout",
     "output_type": "stream",
     "text": [
      "75316 75315\n",
      ">>> Tiempo de edicion:  0:00:52.519676\n",
      "\n",
      "\n",
      "\n",
      ">>>Metodo de edicion:  _OSS  con el metodo de re muestreo:     para la capa:  C4  con la base:   Salinas\n",
      "\n",
      "\n",
      ">>>  Cargando modelo:  ../../modelos/modeloC4Salinas.h5\n",
      ">>>  Cargando pesos:  ../../pesos/pesosC4Salinas.weights.h5\n",
      "WARNING:tensorflow:Error in loading the saved optimizer state. As a result, your model is starting with a freshly initialized optimizer.\n",
      "778/778 [==============================] - 2s 2ms/step\n",
      ">>>>>>>>>>>>>>>>>>>>>>>>>>>>>>>>>> >>>>>>>>>  >>>>>>  OneSidedSelection(n_jobs=7, sampling_strategy='all')\n",
      "(13226, 20)\n",
      "Counter({0.0: 11174, 16.0: 621, 12.0: 511, 14.0: 275, 7.0: 269, 3.0: 110, 9.0: 73, 8.0: 66, 10.0: 55, 11.0: 26, 2.0: 25, 6.0: 13, 5.0: 5, 1.0: 1, 4.0: 1, 13.0: 1})\n",
      ">>>indices: [    0     8    18 ... 77768 77770 77771]\n",
      ">>> forma indices: (13226,)\n"
     ]
    },
    {
     "name": "stderr",
     "output_type": "stream",
     "text": [
      "100%|██████████| 77772/77772 [00:06<00:00, 12264.20it/s]"
     ]
    },
    {
     "name": "stdout",
     "output_type": "stream",
     "text": [
      "13226 13225\n",
      ">>> Tiempo de edicion:  0:00:16.196627\n",
      "\n",
      "\n",
      "\n",
      ">>>Metodo de edicion:  _ENN  con el metodo de re muestreo:   _SMOTE  para la capa:  C4  con la base:   Salinas\n",
      "\n",
      "\n",
      ">>>  Cargando modelo:  ../../modelos/modeloC4Salinas_SMOTE.h5\n",
      ">>>  Cargando pesos:  ../../pesos/pesosC4Salinas_SMOTE.weights.h5\n",
      "WARNING:tensorflow:Error in loading the saved optimizer state. As a result, your model is starting with a freshly initialized optimizer.\n"
     ]
    },
    {
     "name": "stderr",
     "output_type": "stream",
     "text": [
      "\n"
     ]
    },
    {
     "name": "stdout",
     "output_type": "stream",
     "text": [
      "6797/6797 [==============================] - 13s 2ms/step\n",
      ">>>>>>>>>>>>>>>>>>>>>>>>>>>>>>>>>> >>>>>>>>>  >>>>>>  EditedNearestNeighbours(n_jobs=7, sampling_strategy='all')\n",
      "(667810, 20)\n",
      "Counter({16.0: 39935, 4.0: 39916, 3.0: 39914, 13.0: 39888, 2.0: 39873, 14.0: 39871, 9.0: 39843, 11.0: 39838, 5.0: 39834, 7.0: 39821, 12.0: 39819, 6.0: 39804, 1.0: 39797, 10.0: 39762, 15.0: 37950, 8.0: 36858, 0.0: 35087})\n",
      ">>>indices: [     0      1      2 ... 679657 679658 679659]\n",
      ">>> forma indices: (667810,)\n"
     ]
    },
    {
     "name": "stderr",
     "output_type": "stream",
     "text": [
      "100%|██████████| 679660/679660 [05:09<00:00, 2192.69it/s]\n"
     ]
    },
    {
     "name": "stdout",
     "output_type": "stream",
     "text": [
      "667810 667809\n",
      ">>> Tiempo de edicion:  0:15:37.361781\n",
      "\n",
      "\n",
      "\n",
      ">>>Metodo de edicion:  _TL  con el metodo de re muestreo:   _SMOTE  para la capa:  C4  con la base:   Salinas\n",
      "\n",
      "\n",
      ">>>  Cargando modelo:  ../../modelos/modeloC4Salinas_SMOTE.h5\n",
      ">>>  Cargando pesos:  ../../pesos/pesosC4Salinas_SMOTE.weights.h5\n",
      "WARNING:tensorflow:Error in loading the saved optimizer state. As a result, your model is starting with a freshly initialized optimizer.\n",
      "6797/6797 [==============================] - 13s 2ms/step\n",
      ">>>>>>>>>>>>>>>>>>>>>>>>>>>>>>>>>> >>>>>>>>>  >>>>>>  TomekLinks(n_jobs=7, sampling_strategy='all')\n",
      "(679252, 20)\n",
      "Counter({16.0: 39980, 3.0: 39980, 12.0: 39980, 11.0: 39980, 4.0: 39979, 13.0: 39979, 14.0: 39977, 9.0: 39975, 6.0: 39972, 1.0: 39972, 2.0: 39972, 10.0: 39971, 7.0: 39970, 5.0: 39970, 0.0: 39895, 15.0: 39855, 8.0: 39845})\n",
      ">>>indices: [     0      1      2 ... 679657 679658 679659]\n",
      ">>> forma indices: (679252,)\n"
     ]
    },
    {
     "name": "stderr",
     "output_type": "stream",
     "text": [
      "100%|██████████| 679660/679660 [05:15<00:00, 2150.84it/s]\n"
     ]
    },
    {
     "name": "stdout",
     "output_type": "stream",
     "text": [
      "679252 679251\n",
      ">>> Tiempo de edicion:  0:15:31.760558\n",
      "\n",
      "\n",
      "\n",
      ">>>Metodo de edicion:  _OSS  con el metodo de re muestreo:   _SMOTE  para la capa:  C4  con la base:   Salinas\n",
      "\n",
      "\n",
      ">>>  Cargando modelo:  ../../modelos/modeloC4Salinas_SMOTE.h5\n",
      ">>>  Cargando pesos:  ../../pesos/pesosC4Salinas_SMOTE.weights.h5\n",
      "WARNING:tensorflow:Error in loading the saved optimizer state. As a result, your model is starting with a freshly initialized optimizer.\n",
      "6797/6797 [==============================] - 13s 2ms/step\n",
      ">>>>>>>>>>>>>>>>>>>>>>>>>>>>>>>>>> >>>>>>>>>  >>>>>>  OneSidedSelection(n_jobs=7, sampling_strategy='all')\n",
      "(617098, 20)\n",
      "Counter({6.0: 39862, 14.0: 39701, 3.0: 39682, 8.0: 39563, 5.0: 39265, 12.0: 39106, 2.0: 39056, 15.0: 38791, 4.0: 38275, 16.0: 38171, 13.0: 38137, 7.0: 37932, 11.0: 37873, 10.0: 37576, 9.0: 37067, 1.0: 37040, 0.0: 1})\n",
      ">>>indices: [     3      4      6 ... 679657 679658 679659]\n",
      ">>> forma indices: (617098,)\n"
     ]
    },
    {
     "name": "stderr",
     "output_type": "stream",
     "text": [
      "100%|██████████| 679660/679660 [04:48<00:00, 2354.88it/s]"
     ]
    },
    {
     "name": "stdout",
     "output_type": "stream",
     "text": [
      "617098 617097\n",
      ">>> Tiempo de edicion:  0:14:07.595541\n",
      "\n",
      "\n",
      "\n",
      ">>>Metodo de edicion:  _ENN  con el metodo de re muestreo:   _ROS  para la capa:  C4  con la base:   Salinas\n",
      "\n",
      "\n",
      ">>>  Cargando modelo:  ../../modelos/modeloC4Salinas_ROS.h5\n",
      ">>>  Cargando pesos:  ../../pesos/pesosC4Salinas_ROS.weights.h5\n",
      "WARNING:tensorflow:Error in loading the saved optimizer state. As a result, your model is starting with a freshly initialized optimizer.\n"
     ]
    },
    {
     "name": "stderr",
     "output_type": "stream",
     "text": [
      "\n"
     ]
    },
    {
     "name": "stdout",
     "output_type": "stream",
     "text": [
      "6797/6797 [==============================] - 14s 2ms/step\n",
      ">>>>>>>>>>>>>>>>>>>>>>>>>>>>>>>>>> >>>>>>>>>  >>>>>>  EditedNearestNeighbours(n_jobs=7, sampling_strategy='all')\n",
      "(670322, 20)\n",
      "Counter({2.0: 39938, 6.0: 39874, 15.0: 39835, 9.0: 39831, 4.0: 39825, 5.0: 39820, 7.0: 39779, 16.0: 39778, 3.0: 39771, 1.0: 39710, 10.0: 39706, 12.0: 39456, 8.0: 39427, 14.0: 39325, 11.0: 39189, 13.0: 39046, 0.0: 36012})\n",
      ">>>indices: [     0      1      2 ... 679657 679658 679659]\n",
      ">>> forma indices: (670322,)\n"
     ]
    },
    {
     "name": "stderr",
     "output_type": "stream",
     "text": [
      "100%|██████████| 679660/679660 [05:13<00:00, 2170.11it/s]\n"
     ]
    },
    {
     "name": "stdout",
     "output_type": "stream",
     "text": [
      "670322 670321\n",
      ">>> Tiempo de edicion:  0:15:35.719868\n",
      "\n",
      "\n",
      "\n",
      ">>>Metodo de edicion:  _TL  con el metodo de re muestreo:   _ROS  para la capa:  C4  con la base:   Salinas\n",
      "\n",
      "\n",
      ">>>  Cargando modelo:  ../../modelos/modeloC4Salinas_ROS.h5\n",
      ">>>  Cargando pesos:  ../../pesos/pesosC4Salinas_ROS.weights.h5\n",
      "WARNING:tensorflow:Error in loading the saved optimizer state. As a result, your model is starting with a freshly initialized optimizer.\n",
      "6797/6797 [==============================] - 14s 2ms/step\n",
      ">>>>>>>>>>>>>>>>>>>>>>>>>>>>>>>>>> >>>>>>>>>  >>>>>>  TomekLinks(n_jobs=7, sampling_strategy='all')\n",
      "(679660, 20)\n",
      "Counter({0.0: 39980, 7.0: 39980, 8.0: 39980, 5.0: 39980, 10.0: 39980, 16.0: 39980, 6.0: 39980, 3.0: 39980, 4.0: 39980, 9.0: 39980, 13.0: 39980, 12.0: 39980, 15.0: 39980, 14.0: 39980, 1.0: 39980, 2.0: 39980, 11.0: 39980})\n",
      ">>>indices: [     0      1      2 ... 679657 679658 679659]\n",
      ">>> forma indices: (679660,)\n"
     ]
    },
    {
     "name": "stderr",
     "output_type": "stream",
     "text": [
      "100%|██████████| 679660/679660 [05:17<00:00, 2143.67it/s]\n"
     ]
    },
    {
     "name": "stdout",
     "output_type": "stream",
     "text": [
      "679660 679659\n",
      ">>> Tiempo de edicion:  0:15:35.228331\n",
      "\n",
      "\n",
      "\n",
      ">>>Metodo de edicion:  _OSS  con el metodo de re muestreo:   _ROS  para la capa:  C4  con la base:   Salinas\n",
      "\n",
      "\n",
      ">>>  Cargando modelo:  ../../modelos/modeloC4Salinas_ROS.h5\n",
      ">>>  Cargando pesos:  ../../pesos/pesosC4Salinas_ROS.weights.h5\n",
      "WARNING:tensorflow:Error in loading the saved optimizer state. As a result, your model is starting with a freshly initialized optimizer.\n",
      "6797/6797 [==============================] - 13s 2ms/step\n",
      ">>>>>>>>>>>>>>>>>>>>>>>>>>>>>>>>>> >>>>>>>>>  >>>>>>  OneSidedSelection(n_jobs=7, sampling_strategy='all')\n",
      "(606505, 20)\n",
      "Counter({1.0: 39663, 7.0: 39649, 11.0: 39621, 15.0: 39437, 4.0: 39385, 12.0: 39127, 5.0: 39083, 2.0: 38851, 9.0: 38678, 16.0: 38558, 14.0: 38412, 6.0: 38276, 13.0: 37748, 8.0: 37363, 3.0: 36944, 10.0: 25709, 0.0: 1})\n",
      ">>>indices: [     3      4      6 ... 679657 679658 679659]\n",
      ">>> forma indices: (606505,)\n"
     ]
    },
    {
     "name": "stderr",
     "output_type": "stream",
     "text": [
      "100%|██████████| 679660/679660 [04:52<00:00, 2321.98it/s]"
     ]
    },
    {
     "name": "stdout",
     "output_type": "stream",
     "text": [
      "606505 606504\n",
      ">>> Tiempo de edicion:  0:14:25.633885\n",
      "\n",
      "\n",
      "\n",
      "\n",
      ">>> Proceso terminado en :  0:14:25.634886\n"
     ]
    },
    {
     "name": "stderr",
     "output_type": "stream",
     "text": [
      "\n"
     ]
    }
   ],
   "source": [
    "inicio= datetime.datetime.now()\n",
    "contadorBases=0\n",
    "for base in bases:\n",
    "    print(\"\\n\\n\\n\")\n",
    "    print(\">>>>> Base: \",base)\n",
    "    for capa in n_capas:\n",
    "        print(\">>>>>>>>>> Capa: \",capa)\n",
    "        print(\"\\n\\n\\n\")\n",
    "        try:\n",
    "\n",
    "            for os in OS:\n",
    "                for e in E:\n",
    "\n",
    "                    print(\"\\n\\n\")\n",
    "                    print(\">>>Metodo de edicion: \",e,\" con el metodo de re muestreo:  \",os,\" para la capa: \",capa, \" con la base:  \",base )\n",
    "                   \n",
    "                    \n",
    "                    print(\"\\n\")\n",
    "                    inicio=datetime.datetime.now()        \n",
    "\n",
    "                    print(\">>>  Cargando modelo: \",str(directorioModelosIn+\"modelo\"+str(capa)+base+\"\"+os+\".h5\"))    \n",
    "                    modelo = str(directorioModelosIn+\"modelo\"+str(capa)+base+\"\"+os+\".h5\")\n",
    "                    print(\">>>  Cargando pesos: \",  str(directorioPesosIn+\"pesos\"+str(capa)+base+\"\"+os+\".weights.h5\")) \n",
    "                    pesos = str(directorioPesosIn+\"pesos\"+str(capa)+base+\"\"+os+\".weights.h5\")\n",
    "                    model = tf.keras.models.load_model(modelo)\n",
    "                    model.load_weights(pesos)\n",
    "\n",
    "                    #Leer los valores del archivo de entrenamiento \n",
    "                    carga=np.loadtxt(str(directorioEntrenamientoIn+str(base)+os+\".txt\"))\n",
    "                    #carga=shuffle(carga)\n",
    "                    datos=carga[:,0:carga.shape[1]-1]\n",
    "                    clases=carga[:,carga.shape[1]-1]\n",
    "\n",
    "                    snn_pred = model.predict(datos, batch_size=100)\n",
    "\n",
    "                    #Se aplica TL a los datos\n",
    "                    x=snn_pred\n",
    "                    y=clases\n",
    "    \n",
    "                    print(\">>>>>>>>>>>>>>>>>>>>>>>>>>>>>>>>>> >>>>>>>>>  >>>>>> \",metodosDeEdicionProfunda[e])\n",
    "                    sampler = metodosDeEdicionProfunda[e]\n",
    "\n",
    "                    x_res, y_res = sampler.fit_resample(x, y)\n",
    "                    print(x_res.shape)\n",
    "                    print(Counter(y_res))\n",
    "                    #Guardar metodo en archivo\n",
    "                    indices=sampler.sample_indices_\n",
    "                    indices.sort()\n",
    "                    print(\">>>indices:\",indices)\n",
    "                    print(\">>> forma indices:\",indices.shape)\n",
    "                    \n",
    "                    Archivo = open(str(directorioEntrenamientoOut+str(base)+str(capa)+\"\"+e+\"\"+os+\".txt\"),'w')\n",
    "\n",
    "                    k=0\n",
    "                    for i in tqdm(range(len(clases))):\n",
    "                        if i == indices[k]and k< (len(indices)-1):\n",
    "                            k=k+1\n",
    "                            for j in range (datos.shape[1]):\n",
    "                                Archivo.write( f\"{datos[i][j]:.15f}\"+\" \")\n",
    "                                #Archivo.write( str(int(datos[i][j]))+\" \")\n",
    "                                #print(\">>>> Dato: \",str(datos[i][j]))\n",
    "                            Archivo.write(str(int(clases[i])))\n",
    "                            #print(\">>> Clase: \",str(int(clases[i])))\n",
    "                            Archivo.write(OperativeSystem.linesep)\n",
    "                    print(len(y_res),k)\n",
    "                    Archivo.close()\n",
    "\n",
    "                    fin=datetime.datetime.now()  \n",
    "                    print(\">>> Tiempo de edicion: \",(fin-inicio))\n",
    "                    \n",
    "\n",
    "        except Exception as error:\n",
    "            print(\"> Error realizando el proceso para la base: \",base,\" con el metodo de muestreo: \",capa)\n",
    "            print(\">>Error: \",error)\n",
    "    contadorBases=contadorBases+1\n",
    "fin= datetime.datetime.now()\n",
    "print(\"\\n\\n\\n\")\n",
    "print(\">>> Proceso terminado en : \",(fin-inicio))\n",
    "\n",
    "    "
   ]
  }
 ],
 "metadata": {
  "kernelspec": {
   "display_name": "ia",
   "language": "python",
   "name": "python3"
  },
  "language_info": {
   "codemirror_mode": {
    "name": "ipython",
    "version": 3
   },
   "file_extension": ".py",
   "mimetype": "text/x-python",
   "name": "python",
   "nbconvert_exporter": "python",
   "pygments_lexer": "ipython3",
   "version": "3.10.11"
  }
 },
 "nbformat": 4,
 "nbformat_minor": 2
}
